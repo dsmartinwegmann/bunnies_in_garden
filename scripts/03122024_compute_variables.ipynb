{
  "metadata": {
    "kernelspec": {
      "name": "python",
      "display_name": "Python (Pyodide)",
      "language": "python"
    },
    "language_info": {
      "codemirror_mode": {
        "name": "python",
        "version": 3
      },
      "file_extension": ".py",
      "mimetype": "text/x-python",
      "name": "python",
      "nbconvert_exporter": "python",
      "pygments_lexer": "ipython3",
      "version": "3.8"
    }
  },
  "nbformat_minor": 4,
  "nbformat": 4,
  "cells": [
    {
      "cell_type": "markdown",
      "source": "# Contact Information",
      "metadata": {}
    },
    {
      "cell_type": "markdown",
      "source": "Author: Martin Wegmann\n\nEmail: martin.wegmann@unibe.ch\n\nDate: 25th November 2021",
      "metadata": {}
    },
    {
      "cell_type": "markdown",
      "source": "# Analysis",
      "metadata": {}
    },
    {
      "cell_type": "markdown",
      "source": "## Compute Variables",
      "metadata": {}
    },
    {
      "cell_type": "markdown",
      "source": "Here we compute variables:\n\n* temperature\n* humidty",
      "metadata": {}
    },
    {
      "cell_type": "code",
      "source": "temperature=4354365/234",
      "metadata": {
        "trusted": true
      },
      "outputs": [],
      "execution_count": 1
    },
    {
      "cell_type": "code",
      "source": "temperature",
      "metadata": {
        "trusted": true
      },
      "outputs": [
        {
          "execution_count": 2,
          "output_type": "execute_result",
          "data": {
            "text/plain": "18608.397435897437"
          },
          "metadata": {}
        }
      ],
      "execution_count": 2
    },
    {
      "cell_type": "code",
      "source": "",
      "metadata": {
        "trusted": true
      },
      "outputs": [],
      "execution_count": null
    }
  ]
}